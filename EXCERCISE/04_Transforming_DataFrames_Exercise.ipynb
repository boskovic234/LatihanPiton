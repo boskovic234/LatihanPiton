{
  "cells": [
    {
      "cell_type": "code",
      "execution_count": 20,
      "metadata": {
        "id": "aFeAVj_hwI28"
      },
      "outputs": [
        {
          "data": {
            "text/plain": [
              "<bound method NDFrame.describe of     Unnamed: 0              region                 state  individuals  \\\n",
              "0            0  East South Central               Alabama       2570.0   \n",
              "1            1             Pacific                Alaska       1434.0   \n",
              "2            2            Mountain               Arizona       7259.0   \n",
              "3            3  West South Central              Arkansas       2280.0   \n",
              "4            4             Pacific            California     109008.0   \n",
              "5            5            Mountain              Colorado       7607.0   \n",
              "6            6         New England           Connecticut       2280.0   \n",
              "7            7      South Atlantic              Delaware        708.0   \n",
              "8            8      South Atlantic  District of Columbia       3770.0   \n",
              "9            9      South Atlantic               Florida      21443.0   \n",
              "10          10      South Atlantic               Georgia       6943.0   \n",
              "11          11             Pacific                Hawaii       4131.0   \n",
              "12          12            Mountain                 Idaho       1297.0   \n",
              "13          13  East North Central              Illinois       6752.0   \n",
              "14          14  East North Central               Indiana       3776.0   \n",
              "15          15  West North Central                  Iowa       1711.0   \n",
              "16          16  West North Central                Kansas       1443.0   \n",
              "17          17  East South Central              Kentucky       2735.0   \n",
              "18          18  West South Central             Louisiana       2540.0   \n",
              "19          19         New England                 Maine       1450.0   \n",
              "20          20      South Atlantic              Maryland       4914.0   \n",
              "21          21         New England         Massachusetts       6811.0   \n",
              "22          22  East North Central              Michigan       5209.0   \n",
              "23          23  West North Central             Minnesota       3993.0   \n",
              "24          24  East South Central           Mississippi       1024.0   \n",
              "25          25  West North Central              Missouri       3776.0   \n",
              "26          26            Mountain               Montana        983.0   \n",
              "27          27  West North Central              Nebraska       1745.0   \n",
              "28          28            Mountain                Nevada       7058.0   \n",
              "29          29         New England         New Hampshire        835.0   \n",
              "30          30        Mid-Atlantic            New Jersey       6048.0   \n",
              "31          31            Mountain            New Mexico       1949.0   \n",
              "32          32        Mid-Atlantic              New York      39827.0   \n",
              "33          33      South Atlantic        North Carolina       6451.0   \n",
              "34          34  West North Central          North Dakota        467.0   \n",
              "35          35  East North Central                  Ohio       6929.0   \n",
              "36          36  West South Central              Oklahoma       2823.0   \n",
              "37          37             Pacific                Oregon      11139.0   \n",
              "38          38        Mid-Atlantic          Pennsylvania       8163.0   \n",
              "39          39         New England          Rhode Island        747.0   \n",
              "40          40      South Atlantic        South Carolina       3082.0   \n",
              "41          41  West North Central          South Dakota        836.0   \n",
              "42          42  East South Central             Tennessee       6139.0   \n",
              "43          43  West South Central                 Texas      19199.0   \n",
              "44          44            Mountain                  Utah       1904.0   \n",
              "45          45         New England               Vermont        780.0   \n",
              "46          46      South Atlantic              Virginia       3928.0   \n",
              "47          47             Pacific            Washington      16424.0   \n",
              "48          48      South Atlantic         West Virginia       1021.0   \n",
              "49          49  East North Central             Wisconsin       2740.0   \n",
              "50          50            Mountain               Wyoming        434.0   \n",
              "\n",
              "    family_members  state_pop  \n",
              "0            864.0    4887681  \n",
              "1            582.0     735139  \n",
              "2           2606.0    7158024  \n",
              "3            432.0    3009733  \n",
              "4          20964.0   39461588  \n",
              "5           3250.0    5691287  \n",
              "6           1696.0    3571520  \n",
              "7            374.0     965479  \n",
              "8           3134.0     701547  \n",
              "9           9587.0   21244317  \n",
              "10          2556.0   10511131  \n",
              "11          2399.0    1420593  \n",
              "12           715.0    1750536  \n",
              "13          3891.0   12723071  \n",
              "14          1482.0    6695497  \n",
              "15          1038.0    3148618  \n",
              "16           773.0    2911359  \n",
              "17           953.0    4461153  \n",
              "18           519.0    4659690  \n",
              "19          1066.0    1339057  \n",
              "20          2230.0    6035802  \n",
              "21         13257.0    6882635  \n",
              "22          3142.0    9984072  \n",
              "23          3250.0    5606249  \n",
              "24           328.0    2981020  \n",
              "25          2107.0    6121623  \n",
              "26           422.0    1060665  \n",
              "27           676.0    1925614  \n",
              "28           486.0    3027341  \n",
              "29           615.0    1353465  \n",
              "30          3350.0    8886025  \n",
              "31           602.0    2092741  \n",
              "32         52070.0   19530351  \n",
              "33          2817.0   10381615  \n",
              "34            75.0     758080  \n",
              "35          3320.0   11676341  \n",
              "36          1048.0    3940235  \n",
              "37          3337.0    4181886  \n",
              "38          5349.0   12800922  \n",
              "39           354.0    1058287  \n",
              "40           851.0    5084156  \n",
              "41           323.0     878698  \n",
              "42          1744.0    6771631  \n",
              "43          6111.0   28628666  \n",
              "44           972.0    3153550  \n",
              "45           511.0     624358  \n",
              "46          2047.0    8501286  \n",
              "47          5880.0    7523869  \n",
              "48           222.0    1804291  \n",
              "49          2167.0    5807406  \n",
              "50           205.0     577601  >"
            ]
          },
          "execution_count": 20,
          "metadata": {},
          "output_type": "execute_result"
        }
      ],
      "source": [
        "# Import pandas using the alias pd\n",
        "import pandas as pd\n",
        "homelessness = pd.read_csv('01. homelessness.csv')\n",
        "\n",
        "# Print the head of the homelessness data\n",
        "homelessness.head()\n",
        "\n",
        "# # Print information about homelessness\n",
        "# ____\n",
        "# homelessness.info()\n",
        "\n",
        "# # Print the shape of homelessness\n",
        "# ____\n",
        "homelessness.shape\n",
        "\n",
        "# # Print a description of homelessness\n",
        "# ____\n",
        "homelessness.describe"
      ]
    },
    {
      "cell_type": "code",
      "execution_count": 25,
      "metadata": {
        "id": "fm5saUItwcFd"
      },
      "outputs": [
        {
          "data": {
            "text/plain": [
              "Index(['Unnamed: 0', 'region', 'state', 'individuals', 'family_members',\n",
              "       'state_pop'],\n",
              "      dtype='object')"
            ]
          },
          "execution_count": 25,
          "metadata": {},
          "output_type": "execute_result"
        }
      ],
      "source": [
        "# Print the values of homelessness\n",
        "# print(homelessness)\n",
        "\n",
        "# Print the column index of homelessness\n",
        "homelessness.columns\n",
        "\n",
        "# Print the row index of homelessness\n",
        "# homelessness.index\n"
      ]
    },
    {
      "cell_type": "markdown",
      "metadata": {
        "id": "C2RxFTVbwurT"
      },
      "source": [
        "1. Sort homelessness by the number of homeless individuals, from smallest to largest, and save this as homelessness_ind.\n",
        "2. Print the head of the sorted DataFrame."
      ]
    },
    {
      "cell_type": "code",
      "execution_count": null,
      "metadata": {
        "id": "a3ykbCdgwzQV"
      },
      "outputs": [],
      "source": [
        "# Sort homelessness by individual\n",
        "homelessness_ind = ____\n",
        "\n",
        "# Print the top few rows\n",
        "print(____)"
      ]
    },
    {
      "cell_type": "markdown",
      "metadata": {
        "id": "DzVp9qvLwyQA"
      },
      "source": [
        "1. Sort homelessness by the number of homeless family_members in descending order, and save this as homelessness_fam.\n",
        "2. Print the head of the sorted DataFrame."
      ]
    },
    {
      "cell_type": "code",
      "execution_count": null,
      "metadata": {
        "id": "b6XF3IT0w7us"
      },
      "outputs": [],
      "source": [
        "# Sort homelessness by descending family members\n",
        "homelessness_fam = ____\n",
        "\n",
        "# Print the top few rows\n",
        "____"
      ]
    },
    {
      "cell_type": "markdown",
      "metadata": {
        "id": "VrycbWLXxju4"
      },
      "source": [
        "1. Sort homelessness first by region (ascending), and then by number of family members (descending). Save this as homelessness_reg_fam.\n",
        "2. Print the head of the sorted DataFrame."
      ]
    },
    {
      "cell_type": "code",
      "execution_count": null,
      "metadata": {
        "id": "8GxinflQxmL6"
      },
      "outputs": [],
      "source": [
        "# Sort homelessness by region, then descending family members\n",
        "homelessness_reg_fam = ____\n",
        "\n",
        "# Print the top few rows\n",
        "____"
      ]
    },
    {
      "cell_type": "markdown",
      "metadata": {
        "id": "ysh02Y60xs7n"
      },
      "source": [
        "1. Create a DataFrame called individuals that contains only the individuals column of homelessness.\n",
        "2. Print the head of the result."
      ]
    },
    {
      "cell_type": "code",
      "execution_count": null,
      "metadata": {
        "id": "N9kvbr1fxwQV"
      },
      "outputs": [],
      "source": [
        "# Select the individuals column\n",
        "individuals = ____\n",
        "\n",
        "# Print the head of the result\n",
        "____"
      ]
    },
    {
      "cell_type": "markdown",
      "metadata": {
        "id": "kjcynwqKyprN"
      },
      "source": [
        "1. Create a DataFrame called state_fam that contains only the state and family_members columns of homelessness, in that order.\n",
        "2. Print the head of the result."
      ]
    },
    {
      "cell_type": "code",
      "execution_count": null,
      "metadata": {
        "id": "cmOO0FXNyuLY"
      },
      "outputs": [],
      "source": [
        "# Select the state and family_members columns\n",
        "state_fam = ____\n",
        "\n",
        "# Print the head of the result\n",
        "____"
      ]
    },
    {
      "cell_type": "markdown",
      "metadata": {
        "id": "HDL0tEKpywNU"
      },
      "source": [
        "1. Create a DataFrame called ind_state that contains the individuals and state columns of homelessness, in that order.\n",
        "2. Print the head of the result."
      ]
    },
    {
      "cell_type": "code",
      "execution_count": null,
      "metadata": {
        "id": "9CGyZMlPy17L"
      },
      "outputs": [],
      "source": [
        "# Select only the individuals and state columns, in that order\n",
        "ind_state = ____\n",
        "\n",
        "# Print the head of the result\n",
        "____"
      ]
    },
    {
      "cell_type": "markdown",
      "metadata": {
        "id": "jRHrSM92zYH5"
      },
      "source": [
        "Filter homelessness for cases where the number of individuals is greater than ten thousand, assigning to ind_gt_10k. View the printed result."
      ]
    },
    {
      "cell_type": "code",
      "execution_count": null,
      "metadata": {
        "id": "Gb2mfRaYzbvk"
      },
      "outputs": [],
      "source": [
        "# Filter for rows where individuals is greater than 10000\n",
        "ind_gt_10k = ____\n",
        "\n",
        "# See the result\n",
        "print(ind_gt_10k)"
      ]
    },
    {
      "cell_type": "markdown",
      "metadata": {
        "id": "ON9JYsLnzcPF"
      },
      "source": [
        "Filter homelessness for cases where the USA Census region is \"Mountain\", assigning to mountain_reg. View the printed result."
      ]
    },
    {
      "cell_type": "code",
      "execution_count": null,
      "metadata": {
        "id": "MrVVVJwMzhaI"
      },
      "outputs": [],
      "source": [
        "# Filter for rows where region is Mountain\n",
        "mountain_reg = ____\n",
        "\n",
        "# See the result\n",
        "____"
      ]
    },
    {
      "cell_type": "markdown",
      "metadata": {
        "id": "DDQQp1oWziHx"
      },
      "source": [
        "Filter homelessness for cases where the number of family_members is less than one thousand and the region is \"Pacific\", assigning to fam_lt_1k_pac. View the printed result."
      ]
    },
    {
      "cell_type": "code",
      "execution_count": null,
      "metadata": {
        "id": "8YRcU-HszlCU"
      },
      "outputs": [],
      "source": [
        "# Filter for rows where family_members is less than 1000 \n",
        "# and region is Pacific\n",
        "fam_lt_1k_pac = ____\n",
        "\n",
        "# See the result\n",
        "print(fam_lt_1k_pac)"
      ]
    },
    {
      "cell_type": "markdown",
      "metadata": {
        "id": "yGDc3wEIzpE8"
      },
      "source": [
        "Filter homelessness for cases where the USA census region is \"South Atlantic\" or it is \"Mid-Atlantic\", assigning to south_mid_atlantic. View the printed result"
      ]
    },
    {
      "cell_type": "code",
      "execution_count": null,
      "metadata": {
        "id": "nk8O0I2PzrLV"
      },
      "outputs": [],
      "source": [
        "# Subset for rows in South Atlantic or Mid-Atlantic regions\n",
        "south_mid_atlantic = ____\n",
        "\n",
        "# See the result\n",
        "print(south_mid_atlantic)"
      ]
    },
    {
      "cell_type": "markdown",
      "metadata": {
        "id": "jjBCm7kAzs5u"
      },
      "source": [
        "Filter homelessness for cases where the USA census state is in the list of Mojave states, canu, assigning to mojave_homelessness. View the printed result."
      ]
    },
    {
      "cell_type": "code",
      "execution_count": null,
      "metadata": {
        "id": "F45HAHppzvKf"
      },
      "outputs": [],
      "source": [
        "# The Mojave Desert states\n",
        "canu = [\"California\", \"Arizona\", \"Nevada\", \"Utah\"]\n",
        "\n",
        "# Filter for rows in the Mojave Desert states\n",
        "mojave_homelessness = ____\n",
        "\n",
        "# See the result\n",
        "print(mojave_homelessness)"
      ]
    },
    {
      "cell_type": "markdown",
      "metadata": {
        "id": "-HUNhiw2zzvO"
      },
      "source": [
        "1. Add a new column to homelessness, named total, containing the sum of the individuals and family_members columns.\n",
        "2. Add another column to homelessness, named p_individuals, containing the proportion of homeless people in each state who are individuals."
      ]
    },
    {
      "cell_type": "code",
      "execution_count": null,
      "metadata": {
        "id": "Cc9kHD-Szw9S"
      },
      "outputs": [],
      "source": [
        "# Add total col as sum of individuals and family_members\n",
        "____\n",
        "\n",
        "# Add p_individuals col as proportion of individuals\n",
        "____\n",
        "\n",
        "# See the result\n",
        "print(homelessness)"
      ]
    },
    {
      "cell_type": "markdown",
      "metadata": {
        "id": "nU1T0AwEz5dR"
      },
      "source": [
        "1. Add a column to homelessness, indiv_per_10k, containing the number of homeless individuals per ten thousand people in each state.\n",
        "2. Subset rows where indiv_per_10k is higher than 20, assigning to high_homelessness.\n",
        "3. Sort high_homelessness by descending indiv_per_10k, assigning to high_homelessness_srt.\n",
        "4. Select only the state and indiv_per_10k columns of high_homelessness_srt and save as result. Look at the result."
      ]
    },
    {
      "cell_type": "code",
      "execution_count": null,
      "metadata": {
        "id": "IybcAnQ2z5DU"
      },
      "outputs": [],
      "source": [
        "# Create indiv_per_10k col as homeless individuals per 10k state pop\n",
        "homelessness[\"indiv_per_10k\"] = 10000 * ____ / ____ \n",
        "\n",
        "# Subset rows for indiv_per_10k greater than 20\n",
        "high_homelessness = ____\n",
        "\n",
        "# Sort high_homelessness by descending indiv_per_10k\n",
        "high_homelessness_srt = ____\n",
        "\n",
        "# From high_homelessness_srt, select the state and indiv_per_10k cols\n",
        "result = ____\n",
        "\n",
        "# See the result\n",
        "print(result)"
      ]
    }
  ],
  "metadata": {
    "colab": {
      "name": "04. Transforming DataFrames Exercise.ipynb",
      "provenance": []
    },
    "kernelspec": {
      "display_name": "Python 3.9.13 64-bit (windows store)",
      "language": "python",
      "name": "python3"
    },
    "language_info": {
      "codemirror_mode": {
        "name": "ipython",
        "version": 3
      },
      "file_extension": ".py",
      "mimetype": "text/x-python",
      "name": "python",
      "nbconvert_exporter": "python",
      "pygments_lexer": "ipython3",
      "version": "3.9.13"
    },
    "vscode": {
      "interpreter": {
        "hash": "b071bbd6b4343162a387a4ea12d3c2788c22fc49f59d55086465d4d10f387584"
      }
    }
  },
  "nbformat": 4,
  "nbformat_minor": 0
}
